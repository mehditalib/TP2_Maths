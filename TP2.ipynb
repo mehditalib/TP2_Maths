{
 "cells": [
  {
   "cell_type": "code",
   "execution_count": 52,
   "metadata": {
    "collapsed": false
   },
   "outputs": [
    {
     "name": "stdout",
     "output_type": "stream",
     "text": [
      "7\n"
     ]
    }
   ],
   "source": [
    "import numpy as np\n",
    "\n",
    "A = np.array([[1,2,3],[2,4,1],[3,1,0]])\n",
    "\n",
    "def norme(A):\n",
    "    return max(abs(A))\n",
    "\n",
    "print(norme(X))"
   ]
  },
  {
   "cell_type": "code",
   "execution_count": 54,
   "metadata": {
    "collapsed": false
   },
   "outputs": [
    {
     "name": "stdout",
     "output_type": "stream",
     "text": [
      "[1.         0.54166667 0.58333333]\n"
     ]
    }
   ],
   "source": [
    "def f(b, A):\n",
    "    return (np.dot(A,b))/norme(np.dot(A,b))\n",
    "\n",
    "print(f(X,A))"
   ]
  },
  {
   "cell_type": "code",
   "execution_count": 73,
   "metadata": {
    "collapsed": false
   },
   "outputs": [
    {
     "name": "stdout",
     "output_type": "stream",
     "text": [
      "[0.71693823 1.         0.53941496]\n"
     ]
    }
   ],
   "source": [
    "def puissanceIteree(A, k):\n",
    "    b = np.random.random_sample(len(A))\n",
    "    for i in range(1,k):\n",
    "        b = f(A,b)\n",
    "    return b\n",
    "print(puissanceIteree(A,5))"
   ]
  },
  {
   "cell_type": "code",
   "execution_count": 84,
   "metadata": {
    "collapsed": false
   },
   "outputs": [
    {
     "name": "stdout",
     "output_type": "stream",
     "text": [
      "[0.72177255 1.         0.52989832]\n"
     ]
    }
   ],
   "source": [
    "def vecteurPropre(A,eps=np.finfo(float).eps):\n",
    "    bk = puissanceIteree(A,0)\n",
    "    bk1 = f(bk,A)\n",
    "    while norme(bk1 - bk) > eps and norme(bk1 + bk) > eps :\n",
    "        bk = bk1\n",
    "        bk1 = f(bk1,A)\n",
    "    return bk\n",
    "\n",
    "print(vecteurPropre(A))"
   ]
  },
  {
   "cell_type": "code",
   "execution_count": 87,
   "metadata": {
    "collapsed": false
   },
   "outputs": [
    {
     "name": "stdout",
     "output_type": "stream",
     "text": [
      "1.0\n",
      "5.97344343323562\n"
     ]
    }
   ],
   "source": [
    "print(norme(vecteurPropre(A)))\n",
    "print(norme(np.dot(A,vecteurPropre(A))))"
   ]
  },
  {
   "cell_type": "code",
   "execution_count": 88,
   "metadata": {
    "collapsed": false
   },
   "outputs": [
    {
     "name": "stdout",
     "output_type": "stream",
     "text": [
      "[ 5.97344343 -2.58959802  1.61615459]\n"
     ]
    }
   ],
   "source": [
    "print(np.linalg.eigvals(A))"
   ]
  },
  {
   "cell_type": "code",
   "execution_count": 0,
   "metadata": {
    "collapsed": false
   },
   "outputs": [
   ],
   "source": [
   ]
  }
 ],
 "metadata": {
  "kernelspec": {
   "display_name": "Python 3 (system-wide)",
   "language": "python",
   "metadata": {
    "cocalc": {
     "description": "Python 3 programming language",
     "priority": 100,
     "url": "https://www.python.org/"
    }
   },
   "name": "python3",
   "resource_dir": "/ext/jupyter/kernels/python3"
  },
  "language_info": {
   "codemirror_mode": {
    "name": "ipython",
    "version": 3
   },
   "file_extension": ".py",
   "mimetype": "text/x-python",
   "name": "python",
   "nbconvert_exporter": "python",
   "pygments_lexer": "ipython3",
   "version": "3.8.5"
  }
 },
 "nbformat": 4,
 "nbformat_minor": 4
}